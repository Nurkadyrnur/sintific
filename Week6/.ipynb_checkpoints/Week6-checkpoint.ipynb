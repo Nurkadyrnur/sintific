{
 "cells": [
  {
   "cell_type": "markdown",
   "metadata": {},
   "source": [
    "# MatPlotLib in Python II"
   ]
  },
  {
   "cell_type": "code",
   "execution_count": null,
   "metadata": {
    "collapsed": true
   },
   "outputs": [],
   "source": [
    "%matplotlib inline\n",
    "import matplotlib.pyplot as plt\n",
    "import numpy as np\n",
    "import sympy as sp\n",
    "# interactive plots\n",
    "import ipywidgets as widgets\n",
    "from IPython.display import display\n",
    "from ipywidgets import interact, interactive, fixed, interact_manual, IntSlider"
   ]
  },
  {
   "cell_type": "markdown",
   "metadata": {},
   "source": [
    "## Adding Interactive Slider"
   ]
  },
  {
   "cell_type": "code",
   "execution_count": null,
   "metadata": {},
   "outputs": [],
   "source": [
    "@interact(a = IntSlider(10, 1, 100, 10), b = (0.01, 1, 0.01))\n",
    "def plotting1(a, b):\n",
    "    print(a, b)\n",
    "    x = np.arange(0, a, b)\n",
    "    plt.plot(x, np.sin(x), x, np.cos(x))\n",
    "    plt.show()"
   ]
  },
  {
   "cell_type": "code",
   "execution_count": null,
   "metadata": {},
   "outputs": [],
   "source": [
    "@interact_manual(a = IntSlider(10, 1, 100, 10), b = (0.01, 1, 0.01))\n",
    "def plotting2(a, b):\n",
    "    print(a, b)\n",
    "    x = np.arange(0, a, b)\n",
    "    plt.plot(x, np.sin(x), x, np.cos(x))\n",
    "    plt.show()"
   ]
  },
  {
   "cell_type": "code",
   "execution_count": null,
   "metadata": {},
   "outputs": [],
   "source": [
    "@interact(a = IntSlider(1, 1, 10, 1))\n",
    "def plotting3(a):\n",
    "    x = sp.Symbol('x')\n",
    "    sp.pprint(x**a, use_unicode = False)\n",
    "    r = np.arange(0, 10, 0.1)\n",
    "    plt.plot(r, r**a)\n",
    "    plt.show()"
   ]
  },
  {
   "cell_type": "markdown",
   "metadata": {},
   "source": [
    "## WordColud"
   ]
  },
  {
   "cell_type": "code",
   "execution_count": null,
   "metadata": {},
   "outputs": [],
   "source": [
    "from wordcloud import WordCloud\n",
    "f = open('Sample.txt', 'r')\n",
    "text = f.read()\n",
    "f.close()\n",
    "\n",
    "wordcloud = WordCloud(width = 1920, height = 1080, max_words = 1000).generate(text)\n",
    "plt.figure(figsize = (15, 10))\n",
    "plt.imshow(wordcloud, interpolation = \"bilinear\")\n",
    "plt.axis(\"off\")\n",
    "plt.savefig('math.png')\n",
    "plt.show()"
   ]
  },
  {
   "cell_type": "markdown",
   "metadata": {},
   "source": [
    "### Masking"
   ]
  },
  {
   "cell_type": "code",
   "execution_count": null,
   "metadata": {},
   "outputs": [],
   "source": [
    "from wordcloud import WordCloud, STOPWORDS\n",
    "import matplotlib.pyplot as plt\n",
    "from os import path\n",
    "from PIL import Image\n",
    "import numpy as np\n",
    "import random\n",
    "import string\n",
    "\n",
    "f = open('Sample.txt', 'r')\n",
    "text = f.read()\n",
    "f.close()\n",
    "\n",
    "\n",
    "d = path.dirname('./')\n",
    "mask = np.array(Image.open(path.join(d, \"kg.png\")))\n",
    "\n",
    "\n",
    "wordcloud = WordCloud(width = 1920, height = 1080, max_words = 1000, mask = mask).generate(text)\n",
    "plt.figure(figsize = (15, 10))\n",
    "plt.imshow(wordcloud, interpolation = \"bilinear\")\n",
    "plt.axis(\"off\")\n",
    "plt.savefig('math_masked.png')\n",
    "plt.show()\n"
   ]
  },
  {
   "cell_type": "markdown",
   "metadata": {},
   "source": [
    "### Adding Annotation"
   ]
  },
  {
   "cell_type": "code",
   "execution_count": null,
   "metadata": {},
   "outputs": [],
   "source": [
    "x = np.arange(1, 10, 0.1)\n",
    "fig, ax = plt.subplots()\n",
    "ax.annotate(\"Sinx\",\n",
    "            xy=(2.7, 0.5), xycoords='data',\n",
    "            xytext=(4, 0.5), textcoords='data',\n",
    "            arrowprops=dict(arrowstyle=\"->\",\n",
    "                            connectionstyle=\"arc3\"),\n",
    "            )\n",
    "plt.plot(x, np.sin(x))\n",
    "plt.show()"
   ]
  },
  {
   "cell_type": "markdown",
   "metadata": {},
   "source": [
    "### Different Scatter"
   ]
  },
  {
   "cell_type": "code",
   "execution_count": null,
   "metadata": {},
   "outputs": [],
   "source": [
    "n_points = 200\n",
    "\n",
    "radius   = 2 * np.random.rand(n_points)\n",
    "angles   = 2 * (np.pi) * np.random.rand(n_points)\n",
    "area     = 400 * (radius**2) * np.random.rand(n_points)\n",
    "\n",
    "colors = angles\n",
    "\n",
    "fig = plt.figure(figsize=(20,10))\n",
    "ax  = plt.subplot(111, polar=True)\n",
    "\n",
    "c = plt.scatter(angles, radius, c=colors, s=area, cmap=plt.cm.hsv)\n",
    "c.set_alpha(1.95)\n",
    "\n",
    "plt.show()"
   ]
  },
  {
   "cell_type": "markdown",
   "metadata": {},
   "source": [
    "### 3D Figures"
   ]
  },
  {
   "cell_type": "code",
   "execution_count": null,
   "metadata": {},
   "outputs": [],
   "source": [
    "from mpl_toolkits.mplot3d import Axes3D\n",
    "from matplotlib import cm\n",
    "\n",
    "countof_angles = 36\n",
    "countof_radii  = 8\n",
    "\n",
    "# array - radii\n",
    "array_rad = np.linspace(0.125, 1.0, countof_radii)\n",
    "\n",
    "# array - angles\n",
    "array_ang = np.linspace(0, 2*np.pi, countof_angles, endpoint=False)\n",
    "\n",
    "# repeat all angles per radius\n",
    "array_ang = np.repeat(array_ang[...,np.newaxis], countof_radii, axis=1)\n",
    "\n",
    "# from polar (radii, angles) coords to cartesian (x, y) coords\n",
    "x = np.append(0, (array_rad*np.cos(array_ang)).flatten())\n",
    "y = np.append(0, (array_rad*np.sin(array_ang)).flatten())\n",
    "\n",
    "# saddle shaped surface\n",
    "z = np.sin(-x*y)\n",
    "\n",
    "fig = plt.figure(figsize=(20,10))\n",
    "ax  = fig.gca(projection='3d')\n",
    "\n",
    "ax.plot_trisurf(x, y, z, cmap=cm.autumn, linewidth=0.2)\n",
    "\n",
    "plt.show()"
   ]
  },
  {
   "cell_type": "markdown",
   "metadata": {},
   "source": [
    "## Tossing a Coin Simulation"
   ]
  },
  {
   "cell_type": "code",
   "execution_count": null,
   "metadata": {},
   "outputs": [],
   "source": [
    "for simulations in range(0, 10):\n",
    "    count = 0\n",
    "    tosses = np.random.randint(2, size=4000)\n",
    "    P_heads = []\n",
    "    \n",
    "    for i in range(1, 4001):\n",
    "        index1 = [j for j in range(0, i) if tosses[j] == 1]\n",
    "        P_heads.append(len(index1) / i)\n",
    "        \n",
    "    plt.xlabel('Number of iterations', fontsize=24)\n",
    "    plt.ylabel('Probability', fontsize=24)\n",
    "    plt.plot(np.arange(1, 4001), P_heads[0:4000])\n",
    "    plt.gcf().set_size_inches(20, 10) #returns the current figure\n",
    "    plt.gca().set_xlim([1, 4000]) #returns the current axes\n",
    "    plt.xticks(np.arange(400, 4001, 400), fontsize=20)\n",
    "    plt.yticks(fontsize=20)\n",
    "plt.plot(range(0, 4000), [1 / 2] * 4000, 'k', linewidth=5.0, label = 'Theoretical probability')\n",
    "plt.legend(fontsize=20)\n",
    "plt.show()"
   ]
  },
  {
   "cell_type": "markdown",
   "metadata": {},
   "source": [
    "## Folium"
   ]
  },
  {
   "cell_type": "code",
   "execution_count": null,
   "metadata": {},
   "outputs": [],
   "source": [
    "import folium\n",
    "map_bishkek = folium.Map(location=[42.855563, 74.680963])\n",
    "map_bishkek"
   ]
  },
  {
   "cell_type": "markdown",
   "metadata": {},
   "source": [
    "<a href='https://github.com/python-visualization/folium/blob/master/examples/data/world-countries.json'> Folium World Map </a>"
   ]
  },
  {
   "cell_type": "code",
   "execution_count": null,
   "metadata": {
    "scrolled": true
   },
   "outputs": [],
   "source": [
    "folium.Map(location=[42.855563, 74.680963],\n",
    "           tiles='Stamen Toner',\n",
    "           zoom_start=13)"
   ]
  },
  {
   "cell_type": "code",
   "execution_count": null,
   "metadata": {},
   "outputs": [],
   "source": [
    "map_alatoo = folium.Map(location=[42.855563, 74.680963], zoom_start = 17)\n",
    "folium.Marker([42.855763, 74.680963], popup='International Ala-Too University').add_to(map_alatoo)\n",
    "folium.CircleMarker([42.856263, 74.676863], radius=80, popup='Seytek', color='#3186cc', fill_color='#3186cc').add_to(map_alatoo)\n",
    "map_alatoo"
   ]
  },
  {
   "cell_type": "markdown",
   "metadata": {},
   "source": [
    "### Misc"
   ]
  },
  {
   "cell_type": "code",
   "execution_count": null,
   "metadata": {},
   "outputs": [],
   "source": [
    "import numpy as np\n",
    "import matplotlib as mpl\n",
    "import matplotlib.pyplot as plt\n",
    "import matplotlib.cm as cm\n",
    "\n",
    "mpl.rcParams['xtick.labelsize'] = 10\n",
    "mpl.rcParams['ytick.labelsize'] = 12\n",
    "mpl.rcParams['axes.edgecolor'] = 'gray'\n",
    "\n",
    "\n",
    "axalpha = 0.05\n",
    "figcolor = 'white'\n",
    "dpi = 80\n",
    "fig = plt.figure(figsize=(6, 1.1), dpi=dpi)\n",
    "fig.patch.set_edgecolor(figcolor)\n",
    "fig.patch.set_facecolor(figcolor)\n",
    "\n",
    "\n",
    "def add_math_background():\n",
    "    ax = fig.add_axes([0., 0., 1., 1.])\n",
    "\n",
    "    text = []\n",
    "    text.append(\n",
    "        (r\"$W^{3\\beta}_{\\delta_1 \\rho_1 \\sigma_2} = \"\n",
    "         r\"U^{3\\beta}_{\\delta_1 \\rho_1} + \\frac{1}{8 \\pi 2}\"\n",
    "         r\"\\int^{\\alpha_2}_{\\alpha_2} d \\alpha^\\prime_2 \"\n",
    "         r\"\\left[\\frac{ U^{2\\beta}_{\\delta_1 \\rho_1} - \"\n",
    "         r\"\\alpha^\\prime_2U^{1\\beta}_{\\rho_1 \\sigma_2} \"\n",
    "         r\"}{U^{0\\beta}_{\\rho_1 \\sigma_2}}\\right]$\", (0.7, 0.2), 20))\n",
    "    text.append((r\"$\\frac{d\\rho}{d t} + \\rho \\vec{v}\\cdot\\nabla\\vec{v} \"\n",
    "                 r\"= -\\nabla p + \\mu\\nabla^2 \\vec{v} + \\rho \\vec{g}$\",\n",
    "                 (0.35, 0.9), 20))\n",
    "    text.append((r\"$\\int_{-\\infty}^\\infty e^{-x^2}dx=\\sqrt{\\pi}$\",\n",
    "                 (0.15, 0.3), 25))\n",
    "    text.append((r\"$F_G = G\\frac{m_1m_2}{r^2}$\",\n",
    "                 (0.85, 0.7), 30))\n",
    "    for eq, (x, y), size in text:\n",
    "        ax.text(x, y, eq, ha='center', va='center', color=\"#11557c\",\n",
    "                alpha=0.25, transform=ax.transAxes, fontsize=size)\n",
    "    ax.set_axis_off()\n",
    "    return ax\n",
    "\n",
    "\n",
    "def add_matplotlib_text(ax):\n",
    "    ax.text(0.95, 0.5, 'matplotlib', color='#11557c', fontsize=65,\n",
    "            ha='right', va='center', alpha=1.0, transform=ax.transAxes)\n",
    "\n",
    "\n",
    "def add_polar_bar():\n",
    "    ax = fig.add_axes([0.025, 0.075, 0.2, 0.85], projection='polar')\n",
    "\n",
    "    ax.patch.set_alpha(axalpha)\n",
    "    ax.set_axisbelow(True)\n",
    "    N = 7\n",
    "    arc = 2. * np.pi\n",
    "    theta = np.arange(0.0, arc, arc/N)\n",
    "    radii = 10 * np.array([0.2, 0.6, 0.8, 0.7, 0.4, 0.5, 0.8])\n",
    "    width = np.pi / 4 * np.array([0.4, 0.4, 0.6, 0.8, 0.2, 0.5, 0.3])\n",
    "    bars = ax.bar(theta, radii, width=width, bottom=0.0)\n",
    "    for r, bar in zip(radii, bars):\n",
    "        bar.set_facecolor(cm.jet(r/10.))\n",
    "        bar.set_alpha(0.6)\n",
    "\n",
    "    ax.tick_params(labelbottom=False, labeltop=False,\n",
    "                   labelleft=False, labelright=False)\n",
    "\n",
    "    ax.grid(lw=0.8, alpha=0.9, ls='-', color='0.5')\n",
    "\n",
    "    ax.set_yticks(np.arange(1, 9, 2))\n",
    "    ax.set_rmax(9)\n",
    "\n",
    "\n",
    "if __name__ == '__main__':\n",
    "    main_axes = add_math_background()\n",
    "    add_polar_bar()\n",
    "    add_matplotlib_text(main_axes)\n",
    "    plt.show()\n"
   ]
  },
  {
   "cell_type": "code",
   "execution_count": null,
   "metadata": {},
   "outputs": [],
   "source": [
    "import matplotlib.patches as mpatch\n",
    "import matplotlib.pyplot as plt\n",
    "\n",
    "figheight = 8\n",
    "fig = plt.figure(1, figsize=(9, figheight), dpi=80)\n",
    "fontsize = 0.4 * fig.dpi\n",
    "\n",
    "def make_boxstyles(ax):\n",
    "    styles = mpatch.BoxStyle.get_styles()\n",
    "\n",
    "    for i, (stylename, styleclass) in enumerate(sorted(styles.items())):\n",
    "        ax.text(0.5, (float(len(styles)) - 0.5 - i)/len(styles), stylename,\n",
    "                  ha=\"center\",\n",
    "                  size=fontsize,\n",
    "                  transform=ax.transAxes,\n",
    "                  bbox=dict(boxstyle=stylename, fc=\"w\", ec=\"k\"))\n",
    "\n",
    "ax1 = fig.add_subplot(111, frameon=False, xticks=[], yticks=[])\n",
    "make_boxstyles(ax1)\n",
    "\n",
    "\n",
    "\n",
    "plt.show()"
   ]
  },
  {
   "cell_type": "code",
   "execution_count": null,
   "metadata": {},
   "outputs": [],
   "source": [
    "plt.figure()\n",
    "plt.subplot(111, projection=\"aitoff\") #hammer, lambert, mollweide\n",
    "plt.title(\"Aitoff\")\n",
    "plt.grid(True)\n",
    "plt.show()"
   ]
  },
  {
   "cell_type": "code",
   "execution_count": null,
   "metadata": {},
   "outputs": [],
   "source": [
    "# Fixing random state for reproducibility\n",
    "np.random.seed(19680801)\n",
    "\n",
    "\n",
    "# the bar\n",
    "x = np.where(np.random.rand(500) > 0.7, 1.0, 0.0)\n",
    "\n",
    "axprops = dict(xticks=[], yticks=[])\n",
    "barprops = dict(aspect='auto', cmap=plt.cm.binary, interpolation='nearest')\n",
    "\n",
    "fig = plt.figure()\n",
    "\n",
    "# a horizontal barcode\n",
    "ax = fig.add_axes([0.3, 0.1, 0.6, 0.1], **axprops)\n",
    "ax.imshow(x.reshape((1, -1)), **barprops)\n",
    "\n",
    "\n",
    "plt.show()"
   ]
  },
  {
   "cell_type": "code",
   "execution_count": null,
   "metadata": {},
   "outputs": [],
   "source": [
    "from mpl_toolkits.mplot3d import Axes3D\n",
    "import matplotlib.pyplot as plt\n",
    "import numpy as np\n",
    "\n",
    "# Fixing random state for reproducibility\n",
    "np.random.seed(19680801)\n",
    "\n",
    "\n",
    "fig = plt.figure()\n",
    "ax = fig.add_subplot(111, projection='3d')\n",
    "\n",
    "colors = ['r', 'g', 'b', 'y']\n",
    "yticks = [3, 2, 1, 0]\n",
    "for c, k in zip(colors, yticks):\n",
    "    # Generate the random data for the y=k 'layer'.\n",
    "    xs = np.arange(20)\n",
    "    ys = np.random.rand(20)\n",
    "\n",
    "    # You can provide either a single color or an array with the same length as\n",
    "    # xs and ys. To demonstrate this, we color the first bar of each set cyan.\n",
    "    cs = [c] * len(xs)\n",
    "    cs[0] = 'c'\n",
    "\n",
    "    # Plot the bar graph given by xs and ys on the plane y=k with 80% opacity.\n",
    "    ax.bar(xs, ys, zs=k, zdir='y', color=cs, alpha=0.8)\n",
    "\n",
    "ax.set_xlabel('X')\n",
    "ax.set_ylabel('Y')\n",
    "ax.set_zlabel('Z')\n",
    "\n",
    "# On the y axis let's only label the discrete values that we have data for.\n",
    "ax.set_yticks(yticks)\n",
    "\n",
    "plt.show()"
   ]
  },
  {
   "cell_type": "code",
   "execution_count": null,
   "metadata": {},
   "outputs": [],
   "source": [
    "import matplotlib.pyplot as plt\n",
    "import numpy as np\n",
    "from mpl_toolkits.mplot3d import Axes3D\n",
    "\n",
    "\n",
    "def explode(data):\n",
    "    size = np.array(data.shape)*2\n",
    "    data_e = np.zeros(size - 1, dtype=data.dtype)\n",
    "    data_e[::2, ::2, ::2] = data\n",
    "    return data_e\n",
    "\n",
    "# build up the numpy logo\n",
    "n_voxels = np.zeros((4, 3, 4), dtype=bool)\n",
    "n_voxels[0, 0, :] = True\n",
    "n_voxels[-1, 0, :] = True\n",
    "n_voxels[1, 0, 2] = True\n",
    "n_voxels[2, 0, 1] = True\n",
    "facecolors = np.where(n_voxels, '#FFD65DC0', '#7A88CCC0')\n",
    "edgecolors = np.where(n_voxels, '#BFAB6E', '#7D84A6')\n",
    "filled = np.ones(n_voxels.shape)\n",
    "\n",
    "# upscale the above voxel image, leaving gaps\n",
    "filled_2 = explode(filled)\n",
    "fcolors_2 = explode(facecolors)\n",
    "ecolors_2 = explode(edgecolors)\n",
    "\n",
    "# Shrink the gaps\n",
    "x, y, z = np.indices(np.array(filled_2.shape) + 1).astype(float) // 2\n",
    "x[0::2, :, :] += 0.05\n",
    "y[:, 0::2, :] += 0.05\n",
    "z[:, :, 0::2] += 0.05\n",
    "x[1::2, :, :] += 0.95\n",
    "y[:, 1::2, :] += 0.95\n",
    "z[:, :, 1::2] += 0.95\n",
    "\n",
    "fig = plt.figure()\n",
    "ax = fig.gca(projection='3d')\n",
    "ax.voxels(x, y, z, filled_2, facecolors=fcolors_2, edgecolors=ecolors_2)\n",
    "\n",
    "plt.show()"
   ]
  }
 ],
 "metadata": {
  "kernelspec": {
   "display_name": "Python 3",
   "language": "python",
   "name": "python3"
  },
  "language_info": {
   "codemirror_mode": {
    "name": "ipython",
    "version": 3
   },
   "file_extension": ".py",
   "mimetype": "text/x-python",
   "name": "python",
   "nbconvert_exporter": "python",
   "pygments_lexer": "ipython3",
   "version": "3.6.3"
  }
 },
 "nbformat": 4,
 "nbformat_minor": 2
}
