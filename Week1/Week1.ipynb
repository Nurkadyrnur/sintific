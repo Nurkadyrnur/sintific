{
 "cells": [
  {
   "cell_type": "markdown",
   "metadata": {
    "collapsed": true
   },
   "source": [
    "# Welcome to the Jupyter Notebook! \n",
    "\n",
    "<img class=\"img-responsive\" id=\"main-logo\" src=\"./main-logo.svg\" alt=\"jupyter logo\">\n",
    "\n"
   ]
  },
  {
   "cell_type": "markdown",
   "metadata": {},
   "source": [
    "## How without \"Hello World!\""
   ]
  },
  {
   "cell_type": "code",
   "execution_count": 2,
   "metadata": {},
   "outputs": [
    {
     "name": "stdout",
     "output_type": "stream",
     "text": [
      "Hello Nestan!\n"
     ]
    }
   ],
   "source": [
    "print('Hello Nestan!')"
   ]
  },
  {
   "cell_type": "markdown",
   "metadata": {},
   "source": [
    "## Blocks"
   ]
  },
  {
   "cell_type": "markdown",
   "metadata": {},
   "source": [
    "You can write any Python code and run it by either pressing the ** \"RUN\" **button on the upper menu or by pressing ** \"CTRL+ENTER\" **!"
   ]
  },
  {
   "cell_type": "code",
   "execution_count": 2,
   "metadata": {},
   "outputs": [
    {
     "data": {
      "text/plain": [
       "6"
      ]
     },
     "execution_count": 2,
     "metadata": {},
     "output_type": "execute_result"
    }
   ],
   "source": [
    "2 + 4"
   ]
  },
  {
   "cell_type": "markdown",
   "metadata": {},
   "source": [
    "** \"_\" ** refers to the last executed output."
   ]
  },
  {
   "cell_type": "code",
   "execution_count": 3,
   "metadata": {},
   "outputs": [
    {
     "data": {
      "text/plain": [
       "54"
      ]
     },
     "execution_count": 3,
     "metadata": {},
     "output_type": "execute_result"
    }
   ],
   "source": [
    "_ * 9"
   ]
  },
  {
   "cell_type": "markdown",
   "metadata": {},
   "source": [
    "## LaTex\n",
    "\n",
    "LaTex script can also be displayed as below"
   ]
  },
  {
   "cell_type": "markdown",
   "metadata": {},
   "source": [
    "$\\int_0^\\infty x^{-\\alpha}$"
   ]
  },
  {
   "cell_type": "markdown",
   "metadata": {},
   "source": [
    "## More writings\n",
    "\n",
    "Use ** * text ** to convert into bulleted list\n",
    "\n",
    "* A\n",
    "* B\n",
    "\n",
    "Use \\*text\\* to write in ITALIC\n",
    "\n",
    "*ITALIC TEXT*\n",
    "\n",
    "Use Use \\*\\*text\\*\\* to write in BOLD\n",
    "\n",
    "** BOLD TEXT **"
   ]
  },
  {
   "cell_type": "markdown",
   "metadata": {},
   "source": [
    "## UNIX Commands\n",
    "\n",
    "Use \"!\" before commands"
   ]
  },
  {
   "cell_type": "code",
   "execution_count": 4,
   "metadata": {},
   "outputs": [
    {
     "name": "stdout",
     "output_type": "stream",
     "text": [
      "main-logo.svg  Week1.ipynb  Week1.pptx\r\n"
     ]
    }
   ],
   "source": [
    "!ls"
   ]
  },
  {
   "cell_type": "markdown",
   "metadata": {},
   "source": [
    "## PYTHON"
   ]
  },
  {
   "cell_type": "code",
   "execution_count": 5,
   "metadata": {},
   "outputs": [
    {
     "data": {
      "text/plain": [
       "list"
      ]
     },
     "execution_count": 5,
     "metadata": {},
     "output_type": "execute_result"
    }
   ],
   "source": [
    "x = [i for i in range(10)]\n",
    "type(x)"
   ]
  },
  {
   "cell_type": "code",
   "execution_count": 6,
   "metadata": {
    "collapsed": true
   },
   "outputs": [],
   "source": [
    "def factorial_recursive(n):\n",
    "    if n == 0:\n",
    "        return 1\n",
    "    return n * factorial_recursive(n - 1)"
   ]
  },
  {
   "cell_type": "code",
   "execution_count": 7,
   "metadata": {},
   "outputs": [
    {
     "data": {
      "text/plain": [
       "3628800"
      ]
     },
     "execution_count": 7,
     "metadata": {},
     "output_type": "execute_result"
    }
   ],
   "source": [
    "factorial_recursive(10)"
   ]
  },
  {
   "cell_type": "code",
   "execution_count": 8,
   "metadata": {
    "collapsed": true
   },
   "outputs": [],
   "source": [
    "def factorial_iterative(n):\n",
    "    if n == 0:\n",
    "        return 1\n",
    "    result = 1\n",
    "    for i in range(1, n + 1):\n",
    "        result = result * i\n",
    "    return result"
   ]
  },
  {
   "cell_type": "code",
   "execution_count": 9,
   "metadata": {},
   "outputs": [
    {
     "data": {
      "text/plain": [
       "3628800"
      ]
     },
     "execution_count": 9,
     "metadata": {},
     "output_type": "execute_result"
    }
   ],
   "source": [
    "factorial_iterative(10)"
   ]
  },
  {
   "cell_type": "code",
   "execution_count": 10,
   "metadata": {
    "collapsed": true
   },
   "outputs": [],
   "source": [
    "import time\n",
    "def time_it(f, n):\n",
    "    start = time.time()\n",
    "    f(n)\n",
    "    end = time.time()\n",
    "    return end - start"
   ]
  },
  {
   "cell_type": "code",
   "execution_count": 11,
   "metadata": {},
   "outputs": [
    {
     "data": {
      "text/plain": [
       "0.003666400909423828"
      ]
     },
     "execution_count": 11,
     "metadata": {},
     "output_type": "execute_result"
    }
   ],
   "source": [
    "time_it(factorial_recursive, 1001)"
   ]
  },
  {
   "cell_type": "code",
   "execution_count": 12,
   "metadata": {},
   "outputs": [
    {
     "data": {
      "text/plain": [
       "0.00037384033203125"
      ]
     },
     "execution_count": 12,
     "metadata": {},
     "output_type": "execute_result"
    }
   ],
   "source": [
    "time_it(factorial_iterative, 1001)"
   ]
  },
  {
   "cell_type": "markdown",
   "metadata": {},
   "source": [
    "## Plotting"
   ]
  },
  {
   "cell_type": "code",
   "execution_count": 13,
   "metadata": {},
   "outputs": [
    {
     "data": {
      "image/png": "[encoded data removed]",
      "text/plain": [
       "<matplotlib.figure.Figure at 0x7fe36fce0320>"
      ]
     },
     "metadata": {},
     "output_type": "display_data"
    }
   ],
   "source": [
    "import matplotlib.pyplot as plt\n",
    "\n",
    "x = [i for i in range(1000)]\n",
    "y1 = [time_it(factorial_iterative, i) for i in range(1000)]\n",
    "y2 = [time_it(factorial_recursive, i) for i in range(1000)]\n",
    "\n",
    "fig, ax = plt.subplots(figsize = (15,10))\n",
    "ax.plot(x, y1, color = 'b')\n",
    "ax.plot(x, y2, color = 'y')\n",
    "plt.show()"
   ]
  },
  {
   "cell_type": "code",
   "execution_count": 14,
   "metadata": {},
   "outputs": [
    {
     "data": {
      "image/png": "[encoded data removed]",
      "text/plain": [
       "<matplotlib.figure.Figure at 0x7fe3680052b0>"
      ]
     },
     "metadata": {},
     "output_type": "display_data"
    }
   ],
   "source": [
    "y = [time_it(factorial_iterative, i) for i in range(1000)]\n",
    "plt.hist(y)\n",
    "#plt.grid()\n",
    "plt.show()"
   ]
  },
  {
   "cell_type": "markdown",
   "metadata": {},
   "source": [
    "### Sorting Algorithms"
   ]
  },
  {
   "cell_type": "code",
   "execution_count": 15,
   "metadata": {
    "collapsed": true
   },
   "outputs": [],
   "source": [
    "import random\n",
    "import numpy as np\n",
    "\n",
    "def bubble(a):\n",
    "    n = len(a)\n",
    "    for i in range(n-1):\n",
    "        for j in range(n - i - 1):\n",
    "            if a[j] > a[j + 1]:\n",
    "                temp = a[j + 1]\n",
    "                a[j + 1] = a[j]\n",
    "                a[j] = temp\n",
    "    return a\n",
    "\n",
    "def merge(L1,L2):\n",
    "    L = []\n",
    "    while (len(L1) != 0 and len(L2) != 0):\n",
    "        if L1[0] < L2[0]:\n",
    "            L.append(L1[0])\n",
    "            L1.remove(L1[0])\n",
    "        else:\n",
    "            L.append(L2[0])\n",
    "            L2.remove(L2[0])\n",
    "    if len(L1) == 0:\n",
    "        L += L2\n",
    "    else:\n",
    "        L += L1\n",
    "    return L\n",
    "\n",
    "def mergesort(L):\n",
    "    if len(L) == 0 or len(L) == 1:\n",
    "        return L\n",
    "    else:\n",
    "        m = int(len(L) / 2)\n",
    "        L1 = L[:m]\n",
    "        L2 = L[m:]\n",
    "        return merge(mergesort(L1), mergesort(L2))"
   ]
  },
  {
   "cell_type": "markdown",
   "metadata": {},
   "source": [
    "### Timing"
   ]
  },
  {
   "cell_type": "code",
   "execution_count": 16,
   "metadata": {
    "collapsed": true
   },
   "outputs": [],
   "source": [
    "def built_in_time(L):\n",
    "    start = time.time()\n",
    "    L.sort()\n",
    "    end = time.time()\n",
    "    return end - start\n",
    "\n",
    "def bubble_time(L):\n",
    "    start = time.time()\n",
    "    bubble(L)\n",
    "    end = time.time()\n",
    "    return end - start\n",
    "\n",
    "def merge_time(L):\n",
    "    start = time.time()\n",
    "    mergesort(L)\n",
    "    end = time.time()\n",
    "    return end - start"
   ]
  },
  {
   "cell_type": "markdown",
   "metadata": {},
   "source": [
    "### Plotting"
   ]
  },
  {
   "cell_type": "code",
   "execution_count": 17,
   "metadata": {},
   "outputs": [
    {
     "data": {
      "image/png": "[encoded data removed]",
      "text/plain": [
       "<matplotlib.figure.Figure at 0x7fe34386b668>"
      ]
     },
     "metadata": {},
     "output_type": "display_data"
    }
   ],
   "source": [
    "size2 =  np.array([10 * i for i in range(100)])\n",
    "\n",
    "a = []\n",
    "b = []\n",
    "c = []\n",
    "\n",
    "for n in size2:\n",
    "    L = [random.randint(1,1000) for i in range(n)]\n",
    "    a.append(built_in_time(L))\n",
    "    b.append(bubble_time(L))\n",
    "    c.append(merge_time(L))\n",
    "\n",
    "\n",
    "fig, ax = plt.subplots(figsize = (15,10))\n",
    "#ax.plot(size2, a, 'o', size2, b, '.', size2, c, '*')\n",
    "ax.plot(size2, a, label = 'Built-In', linewidth = 3)\n",
    "ax.plot(size2, b, label = 'Bubble', linewidth = 3)\n",
    "ax.plot(size2, c, label = 'Merge', linewidth = 3)\n",
    "plt.xlabel(\"Size of the LIST\", fontsize = 24)\n",
    "plt.ylabel(\"Time\" , fontsize = 24)\n",
    "plt.title(\"Time versus Size\", fontsize = 32)\n",
    "plt.legend(loc = 2, fontsize = 24)\n",
    "#plt.axis([0, 1000, 0, 0.05])\n",
    "plt.grid(True)\n",
    "plt.show()"
   ]
  },
  {
   "cell_type": "markdown",
   "metadata": {},
   "source": [
    "### Turtle"
   ]
  },
  {
   "cell_type": "code",
   "execution_count": 18,
   "metadata": {
    "collapsed": true
   },
   "outputs": [],
   "source": [
    "import turtle\n",
    "\n",
    "def drawSquare(name, a = 100):\n",
    "    for i in range(4):\n",
    "        name.forward(a)\n",
    "        name.right(90)\n",
    "\n",
    "def drawCircle(name, r = 100):\n",
    "    name.circle(r)\n",
    "\n",
    "def drawTriangle(name, a = 100):\n",
    "    for i in range(3):\n",
    "        name.backward(a)\n",
    "        name.right(120)\n",
    "    \n",
    "def drawArt():\n",
    "    window = turtle.Screen()\n",
    "    window.bgcolor(\"blue\")\n",
    "    brad = turtle.Turtle()\n",
    "    brad.speed(20)\n",
    "    brad.shape(\"turtle\")\n",
    "    brad.color(\"yellow\")\n",
    "    for i in range(18):\n",
    "        #drawSquare(brad)\n",
    "        #drawCircle(brad)\n",
    "        drawTriangle(brad)\n",
    "        brad.right(20)\n",
    "    window.exitonclick()    \n"
   ]
  },
  {
   "cell_type": "code",
   "execution_count": 19,
   "metadata": {
    "collapsed": true
   },
   "outputs": [],
   "source": [
    "drawArt()"
   ]
  }
 ],
 "metadata": {
  "kernelspec": {
   "display_name": "Python 3",
   "language": "python",
   "name": "python3"
  },
  "language_info": {
   "codemirror_mode": {
    "name": "ipython",
    "version": 3
   },
   "file_extension": ".py",
   "mimetype": "text/x-python",
   "name": "python",
   "nbconvert_exporter": "python",
   "pygments_lexer": "ipython3",
   "version": "3.6.4"
  }
 },
 "nbformat": 4,
 "nbformat_minor": 2
}
