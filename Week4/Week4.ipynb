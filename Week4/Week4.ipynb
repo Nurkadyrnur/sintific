{
 "cells": [
  {
   "cell_type": "markdown",
   "metadata": {},
   "source": [
    "## Number Theory Module"
   ]
  },
  {
   "cell_type": "code",
   "execution_count": 1,
   "metadata": {
    "collapsed": true
   },
   "outputs": [],
   "source": [
    "from sympy import *"
   ]
  },
  {
   "cell_type": "markdown",
   "metadata": {},
   "source": [
    "### Prime Prime Prime and Prime"
   ]
  },
  {
   "cell_type": "markdown",
   "metadata": {},
   "source": [
    "### Sieve of Eratosthenes\n",
    "\n",
    "The sieve of Eratosthenes is a simple, ancient algorithm for finding all prime numbers up to any given limit.\n",
    "\n",
    "### In SymPy, Sieve\n",
    "An infinite list of prime numbers, implemented as a dynamically growing sieve of Eratosthenes. When a lookup is requested involving an odd number that has not been sieved, the sieve is automatically extended up to that number."
   ]
  },
  {
   "cell_type": "code",
   "execution_count": 2,
   "metadata": {
    "collapsed": true
   },
   "outputs": [],
   "source": [
    "# The following algorithm returns all primes less than n\n",
    "def sieve_algorithm(n):\n",
    "    if n<2:\n",
    "        return []\n",
    "    sieve=[False] * 2 + [True] * (n - 1)\n",
    "    for i in range(2, int(n ** 0.5) + 1):\n",
    "        if sieve[i]:\n",
    "            for j in range(i ** 2, n + 1, i):\n",
    "                sieve[j]=False\n",
    "    return [2] + [i for i in range(3, n + 1, 2) if sieve[i]]"
   ]
  },
  {
   "cell_type": "code",
   "execution_count": 3,
   "metadata": {},
   "outputs": [
    {
     "data": {
      "text/plain": [
       "[2, 3, 5, 7]"
      ]
     },
     "execution_count": 3,
     "metadata": {},
     "output_type": "execute_result"
    }
   ],
   "source": [
    "sieve_algorithm(10)"
   ]
  },
  {
   "cell_type": "code",
   "execution_count": 4,
   "metadata": {},
   "outputs": [
    {
     "data": {
      "text/plain": [
       "True"
      ]
     },
     "execution_count": 4,
     "metadata": {},
     "output_type": "execute_result"
    }
   ],
   "source": [
    "isprime(10**500+961)"
   ]
  },
  {
   "cell_type": "code",
   "execution_count": 5,
   "metadata": {},
   "outputs": [
    {
     "data": {
      "text/plain": [
       "<generator object primerange at 0x7f97a255d7d8>"
      ]
     },
     "execution_count": 5,
     "metadata": {},
     "output_type": "execute_result"
    }
   ],
   "source": [
    "primerange(10,20)"
   ]
  },
  {
   "cell_type": "code",
   "execution_count": 6,
   "metadata": {
    "scrolled": false
   },
   "outputs": [
    {
     "name": "stdout",
     "output_type": "stream",
     "text": [
      "[2, 3, 5, 7, 11, 13, 17, 19, 23, 29, 31, 37, 41, 43, 47, 53, 59, 61, 67, 71, 73, 79, 83, 89]\n"
     ]
    }
   ],
   "source": [
    "print([x for x in primerange(1, 90)])"
   ]
  },
  {
   "cell_type": "code",
   "execution_count": 7,
   "metadata": {},
   "outputs": [
    {
     "data": {
      "text/plain": [
       "100000000000000000000000000000000000000000000000000000000000000000000000000000000000000000000000000000000000000000000000000000000000000000000000000000000000000000000000000000000000000000000000000000000000000000000000000000000000000000000000000000000000000000000000000000000000000000000000000000000000000000000000000000000000000000000000000000000000000000000000000000000000000000000000000000000000000000000000000000000000000000000000000000000000000000000000000000000000000000000000000000000000000000961"
      ]
     },
     "execution_count": 7,
     "metadata": {},
     "output_type": "execute_result"
    }
   ],
   "source": [
    "nextprime(10**500)"
   ]
  },
  {
   "cell_type": "code",
   "execution_count": 8,
   "metadata": {},
   "outputs": [
    {
     "data": {
      "text/plain": [
       "997"
      ]
     },
     "execution_count": 8,
     "metadata": {},
     "output_type": "execute_result"
    }
   ],
   "source": [
    "prevprime(1000)"
   ]
  },
  {
   "cell_type": "code",
   "execution_count": 9,
   "metadata": {},
   "outputs": [
    {
     "data": {
      "text/plain": [
       "563"
      ]
     },
     "execution_count": 9,
     "metadata": {},
     "output_type": "execute_result"
    }
   ],
   "source": [
    "randprime(100, 1000)"
   ]
  },
  {
   "cell_type": "code",
   "execution_count": 10,
   "metadata": {},
   "outputs": [
    {
     "data": {
      "text/plain": [
       "8553336759482095925014578698637663726512086848934620289697241622697257439436928134878224488270466542850306167053191685097246357727780652597283630321898619009800495806584202721248690114047274119886258359968119152541853327898264217217850727882571937470145116288917011747291437672270259053685751148846005022522214726706803089011454362236751014975938601119031450223979030901168880010104393840349010381423753123348769992530647705212596808818801092174032325205839937248784492134003188866267120738828658771816787137392431938532561457587558622951613582739642472319706562914408636989768212500914330084339378776119640266123589917281810338611858111483825605433724043886546966818317992972731741830897755579043033"
      ]
     },
     "execution_count": 10,
     "metadata": {},
     "output_type": "execute_result"
    }
   ],
   "source": [
    "randprime(pow(10,600), pow(10,700))"
   ]
  },
  {
   "cell_type": "code",
   "execution_count": 11,
   "metadata": {},
   "outputs": [
    {
     "data": {
      "text/plain": [
       "700"
      ]
     },
     "execution_count": 11,
     "metadata": {},
     "output_type": "execute_result"
    }
   ],
   "source": [
    "len(str(_))"
   ]
  },
  {
   "cell_type": "code",
   "execution_count": 12,
   "metadata": {},
   "outputs": [
    {
     "data": {
      "text/plain": [
       "{7: 1, 11: 1, 13: 1}"
      ]
     },
     "execution_count": 12,
     "metadata": {},
     "output_type": "execute_result"
    }
   ],
   "source": [
    "factorint(1001)"
   ]
  },
  {
   "cell_type": "code",
   "execution_count": 13,
   "metadata": {},
   "outputs": [
    {
     "data": {
      "text/plain": [
       "[7, 11, 13]"
      ]
     },
     "execution_count": 13,
     "metadata": {},
     "output_type": "execute_result"
    }
   ],
   "source": [
    "primefactors(1001)"
   ]
  },
  {
   "cell_type": "code",
   "execution_count": 14,
   "metadata": {},
   "outputs": [
    {
     "data": {
      "text/plain": [
       "[101, 3541, 27961, 60101, 7019801, 14103673319201, 1680588011350901]"
      ]
     },
     "execution_count": 14,
     "metadata": {},
     "output_type": "execute_result"
    }
   ],
   "source": [
    "primefactors(10**50+1)"
   ]
  },
  {
   "cell_type": "code",
   "execution_count": 15,
   "metadata": {},
   "outputs": [
    {
     "data": {
      "text/plain": [
       "[1, 2, 4, 5, 8, 10, 20, 25, 40, 50, 100, 125, 200, 250, 500, 1000]"
      ]
     },
     "execution_count": 15,
     "metadata": {},
     "output_type": "execute_result"
    }
   ],
   "source": [
    "divisors(1000)"
   ]
  },
  {
   "cell_type": "code",
   "execution_count": 16,
   "metadata": {},
   "outputs": [
    {
     "data": {
      "text/plain": [
       "16"
      ]
     },
     "execution_count": 16,
     "metadata": {},
     "output_type": "execute_result"
    }
   ],
   "source": [
    "divisor_count(1000)"
   ]
  },
  {
   "cell_type": "code",
   "execution_count": 17,
   "metadata": {},
   "outputs": [
    {
     "data": {
      "text/plain": [
       "{(0, 9): 1,\n",
       " (1, 8): 9,\n",
       " (2, 7): 36,\n",
       " (3, 6): 84,\n",
       " (4, 5): 126,\n",
       " (5, 4): 126,\n",
       " (6, 3): 84,\n",
       " (7, 2): 36,\n",
       " (8, 1): 9,\n",
       " (9, 0): 1}"
      ]
     },
     "execution_count": 17,
     "metadata": {},
     "output_type": "execute_result"
    }
   ],
   "source": [
    "binomial_coefficients(9)"
   ]
  },
  {
   "cell_type": "code",
   "execution_count": 18,
   "metadata": {},
   "outputs": [
    {
     "data": {
      "text/plain": [
       "[1, 9, 36, 84, 126, 126, 84, 36, 9, 1]"
      ]
     },
     "execution_count": 18,
     "metadata": {},
     "output_type": "execute_result"
    }
   ],
   "source": [
    "binomial_coefficients_list(9)"
   ]
  },
  {
   "cell_type": "code",
   "execution_count": 20,
   "metadata": {},
   "outputs": [
    {
     "data": {
      "text/plain": [
       "[10, 3, 4, 7, 8]"
      ]
     },
     "execution_count": 20,
     "metadata": {},
     "output_type": "execute_result"
    }
   ],
   "source": [
    "factor_.digits(3478, 10)"
   ]
  },
  {
   "cell_type": "code",
   "execution_count": 21,
   "metadata": {},
   "outputs": [
    {
     "data": {
      "text/plain": [
       "[2, 1, 0, 0, 1, 0, 1, 0, 1, 0]"
      ]
     },
     "execution_count": 21,
     "metadata": {},
     "output_type": "execute_result"
    }
   ],
   "source": [
    "factor_.digits(298, 2)"
   ]
  },
  {
   "cell_type": "markdown",
   "metadata": {},
   "source": [
    "## Basic Cryptography Module"
   ]
  },
  {
   "cell_type": "code",
   "execution_count": 22,
   "metadata": {
    "collapsed": true
   },
   "outputs": [],
   "source": [
    "from sympy import *\n",
    "import sympy.crypto.crypto as cr"
   ]
  },
  {
   "cell_type": "code",
   "execution_count": 29,
   "metadata": {
    "collapsed": true
   },
   "outputs": [],
   "source": [
    "text = \"Churkaaaaaaaaaaaaaaa kaaaaaaaaaach Nurkadyyyyyyyyyyyyyr!\""
   ]
  },
  {
   "cell_type": "code",
   "execution_count": 30,
   "metadata": {},
   "outputs": [
    {
     "data": {
      "text/plain": [
       "'JOBYRHHHHHHHHHHHHHHHRHHHHHHHHHHJOUBYRHKFFFFFFFFFFFFFY'"
      ]
     },
     "execution_count": 30,
     "metadata": {},
     "output_type": "execute_result"
    }
   ],
   "source": [
    "cipher = cr.encipher_shift(text, 7)\n",
    "cipher"
   ]
  },
  {
   "cell_type": "code",
   "execution_count": 39,
   "metadata": {},
   "outputs": [
    {
     "data": {
      "text/plain": [
       "'CHURKAAAAAAAAAAAAAAAKAAAAAAAAAACHNURKADYYYYYYYYYYYYYR'"
      ]
     },
     "execution_count": 39,
     "metadata": {},
     "output_type": "execute_result"
    }
   ],
   "source": [
    "cr.decipher_shift(cipher, 33)"
   ]
  },
  {
   "cell_type": "code",
   "execution_count": 32,
   "metadata": {},
   "outputs": [
    {
     "name": "stdout",
     "output_type": "stream",
     "text": [
      "JOBYRHHHHHHHHHHHHHHHRHHHHHHHHHHJOUBYRHKFFFFFFFFFFFFFY\n",
      "INAXQGGGGGGGGGGGGGGGQGGGGGGGGGGINTAXQGJEEEEEEEEEEEEEX\n",
      "HMZWPFFFFFFFFFFFFFFFPFFFFFFFFFFHMSZWPFIDDDDDDDDDDDDDW\n",
      "GLYVOEEEEEEEEEEEEEEEOEEEEEEEEEEGLRYVOEHCCCCCCCCCCCCCV\n",
      "FKXUNDDDDDDDDDDDDDDDNDDDDDDDDDDFKQXUNDGBBBBBBBBBBBBBU\n",
      "EJWTMCCCCCCCCCCCCCCCMCCCCCCCCCCEJPWTMCFAAAAAAAAAAAAAT\n",
      "DIVSLBBBBBBBBBBBBBBBLBBBBBBBBBBDIOVSLBEZZZZZZZZZZZZZS\n",
      "CHURKAAAAAAAAAAAAAAAKAAAAAAAAAACHNURKADYYYYYYYYYYYYYR\n",
      "BGTQJZZZZZZZZZZZZZZZJZZZZZZZZZZBGMTQJZCXXXXXXXXXXXXXQ\n",
      "AFSPIYYYYYYYYYYYYYYYIYYYYYYYYYYAFLSPIYBWWWWWWWWWWWWWP\n",
      "ZEROHXXXXXXXXXXXXXXXHXXXXXXXXXXZEKROHXAVVVVVVVVVVVVVO\n",
      "YDQNGWWWWWWWWWWWWWWWGWWWWWWWWWWYDJQNGWZUUUUUUUUUUUUUN\n",
      "XCPMFVVVVVVVVVVVVVVVFVVVVVVVVVVXCIPMFVYTTTTTTTTTTTTTM\n",
      "WBOLEUUUUUUUUUUUUUUUEUUUUUUUUUUWBHOLEUXSSSSSSSSSSSSSL\n",
      "VANKDTTTTTTTTTTTTTTTDTTTTTTTTTTVAGNKDTWRRRRRRRRRRRRRK\n",
      "UZMJCSSSSSSSSSSSSSSSCSSSSSSSSSSUZFMJCSVQQQQQQQQQQQQQJ\n",
      "TYLIBRRRRRRRRRRRRRRRBRRRRRRRRRRTYELIBRUPPPPPPPPPPPPPI\n",
      "SXKHAQQQQQQQQQQQQQQQAQQQQQQQQQQSXDKHAQTOOOOOOOOOOOOOH\n",
      "RWJGZPPPPPPPPPPPPPPPZPPPPPPPPPPRWCJGZPSNNNNNNNNNNNNNG\n",
      "QVIFYOOOOOOOOOOOOOOOYOOOOOOOOOOQVBIFYORMMMMMMMMMMMMMF\n",
      "PUHEXNNNNNNNNNNNNNNNXNNNNNNNNNNPUAHEXNQLLLLLLLLLLLLLE\n",
      "OTGDWMMMMMMMMMMMMMMMWMMMMMMMMMMOTZGDWMPKKKKKKKKKKKKKD\n",
      "NSFCVLLLLLLLLLLLLLLLVLLLLLLLLLLNSYFCVLOJJJJJJJJJJJJJC\n",
      "MREBUKKKKKKKKKKKKKKKUKKKKKKKKKKMRXEBUKNIIIIIIIIIIIIIB\n",
      "LQDATJJJJJJJJJJJJJJJTJJJJJJJJJJLQWDATJMHHHHHHHHHHHHHA\n",
      "KPCZSIIIIIIIIIIIIIIISIIIIIIIIIIKPVCZSILGGGGGGGGGGGGGZ\n"
     ]
    }
   ],
   "source": [
    "for i in range(26):\n",
    "    print(cr.decipher_shift(cipher, i))"
   ]
  },
  {
   "cell_type": "markdown",
   "metadata": {},
   "source": [
    "\n",
    "### RSA\n",
    "\n",
    "RSA (Rivest–Shamir–Adleman) is one of the first public-key cryptosystems and is widely used for secure data transmission. In such a cryptosystem, the encryption key is public and it is different from the decryption key which is kept secret (private). In RSA, this asymmetry is based on the practical difficulty of the factorization of the product of two large prime numbers, the \"factoring problem\". The acronym RSA is made of the initial letters of the surnames of Ron Rivest, Adi Shamir, and Leonard Adleman, who first publicly described the algorithm in 1978. Clifford Cocks, an English mathematician working for the British intelligence agency Government Communications Headquarters (GCHQ), had developed an equivalent system in 1973, but this was not declassified until 1997.[1]\n",
    "\n",
    "A user of RSA creates and then publishes a public key based on two large prime numbers, along with an auxiliary value. The prime numbers must be kept secret. Anyone can use the public key to encrypt a message, but with currently published methods, and if the public key is large enough, only someone with knowledge of the prime numbers can decode the message feasibly.[2] Breaking RSA encryption is known as the RSA problem. Whether it is as difficult as the factoring problem remains an open question.\n",
    "\n",
    "RSA is a relatively slow algorithm, and because of this, it is less commonly used to directly encrypt user data. More often, RSA passes encrypted shared keys for symmetric key cryptography which in turn can perform bulk encryption-decryption operations at much higher speed. (Wikipedia)"
   ]
  },
  {
   "cell_type": "code",
   "execution_count": 41,
   "metadata": {
    "collapsed": true
   },
   "outputs": [],
   "source": [
    "a = 25195908475657893494027183240048398571429282126204032027777137836043662020707595556264018525880784406918290641249515082189298559149176184502808489120072844992687392807287776735971418347270261896375014971824691165077613379859095700097330459748808428401797429100642458691817195118746121515172654632282216869987549182422433637259085141865462043576798423387184774447920739934236584823824281198163815010674810451660377306056201619676256133844143603833904414952634432190114657544454178424020924616515723350778707749817125772467962926386356373289912154831438167899885040445364023527381951378636564391212010397122822120720357"
   ]
  },
  {
   "cell_type": "code",
   "execution_count": 44,
   "metadata": {},
   "outputs": [
    {
     "data": {
      "text/plain": [
       "'0b11000111100101110000110011101110110111001100001110110000011101010100010010010000001000000001101001111010101001100001001111001101011100111001000100010000100000011100011110010000111101011111000110101000011100100110111101000110001101010101000010111011010110110111111111110000110110111000111000011110101000010001100010011110110001110010111110010011110100010110010100000000000100011011110101110010000110101110111010101100110000101010110011011110001100101010000001000001000001111111000001100100100011000010100000010011101000110001111101011011000010110111011101100101111111111000101101000100101101001011011011111111110010010011001110000100101101100100011011101011000010011100011111001111010111101000010110010010110101000000111010100011001111001000000000000011100111110011010110110100111100010100101000000100101101010001111101111011111111010111100000011011111001001101000101100111001100010110010010111010100011101011100110010001110000101100010011010111001100001011101110111110001101011111010110010010101111011110111101010010010010101111011111101000110110101110111111010010011011000110011011111100000000101100010001111001101011111000100111010110010011010011011100111111010001000010011100001001010000111001110111100110011011001110101110010101010111110011111010100011011111010101000101011001111101100001001101011000000010011111100001010011001101001011010111001011000110000001001110101101110111001000000011001101000001010110000010011111000100001010110001101010100101011010110101100101100001110010110010010000100101010010010110111101101011010011001010111100011100101001010110010010011001000010100100100000111100100100110001100001110111000101101100111100001110110111100100100011111001010110101100010110101001001101100111010011011100111101100001110010000111110010010010100011111111000000111100011011001100010011000111110101010101100001010100010111001010000110011010111100110011000011000011111001010100000101010011001000001001001110011100110011101001011110101101101000000101111111011110111100000101100011100110011101010010001100011000110110000111001100011111100101'"
      ]
     },
     "execution_count": 44,
     "metadata": {},
     "output_type": "execute_result"
    }
   ],
   "source": [
    "bin(a)"
   ]
  },
  {
   "cell_type": "code",
   "execution_count": 48,
   "metadata": {
    "collapsed": true
   },
   "outputs": [],
   "source": [
    "p = randprime(pow(10,300), pow(10,400))\n",
    "q = randprime(pow(10,300), pow(10,400))"
   ]
  },
  {
   "cell_type": "code",
   "execution_count": 50,
   "metadata": {},
   "outputs": [
    {
     "data": {
      "text/plain": [
       "2657"
      ]
     },
     "execution_count": 50,
     "metadata": {},
     "output_type": "execute_result"
    }
   ],
   "source": [
    "n = p * q\n",
    "len(bin(n))"
   ]
  },
  {
   "cell_type": "code",
   "execution_count": 51,
   "metadata": {},
   "outputs": [
    {
     "data": {
      "text/plain": [
       "(1005973, 97)"
      ]
     },
     "execution_count": 51,
     "metadata": {},
     "output_type": "execute_result"
    }
   ],
   "source": [
    "public_key = cr.rsa_public_key(1009, 997, 97)\n",
    "public_key"
   ]
  },
  {
   "cell_type": "code",
   "execution_count": 52,
   "metadata": {},
   "outputs": [
    {
     "data": {
      "text/plain": [
       "(1005973, 724513)"
      ]
     },
     "execution_count": 52,
     "metadata": {},
     "output_type": "execute_result"
    }
   ],
   "source": [
    "private_key = cr.rsa_private_key(1009, 997, 97)\n",
    "private_key"
   ]
  },
  {
   "cell_type": "code",
   "execution_count": 53,
   "metadata": {},
   "outputs": [
    {
     "data": {
      "text/plain": [
       "446564"
      ]
     },
     "execution_count": 53,
     "metadata": {},
     "output_type": "execute_result"
    }
   ],
   "source": [
    "cr.encipher_rsa(23, public_key)"
   ]
  },
  {
   "cell_type": "code",
   "execution_count": 54,
   "metadata": {},
   "outputs": [
    {
     "data": {
      "text/plain": [
       "23"
      ]
     },
     "execution_count": 54,
     "metadata": {},
     "output_type": "execute_result"
    }
   ],
   "source": [
    "cr.decipher_rsa(_, private_key)"
   ]
  },
  {
   "cell_type": "code",
   "execution_count": 55,
   "metadata": {},
   "outputs": [
    {
     "data": {
      "text/plain": [
       "302104491991320534581070192438184843394"
      ]
     },
     "execution_count": 55,
     "metadata": {},
     "output_type": "execute_result"
    }
   ],
   "source": [
    "hexa = \"e3 47 35 70 60 b1 c3 64 d1 50 06 27 ef a1 18 82\"\n",
    "a = int(hexa.replace(\" \", \"\"), 16)\n",
    "a"
   ]
  },
  {
   "cell_type": "code",
   "execution_count": 56,
   "metadata": {},
   "outputs": [
    {
     "data": {
      "text/plain": [
       "'.-.|..-|-.||.-..|---|.-..|.-|--..--||.-.|..-|-.|-.-.--'"
      ]
     },
     "execution_count": 56,
     "metadata": {},
     "output_type": "execute_result"
    }
   ],
   "source": [
    "message = \"RUN LOLA, RUN!\"\n",
    "cr.encode_morse(message)"
   ]
  },
  {
   "cell_type": "code",
   "execution_count": 57,
   "metadata": {},
   "outputs": [
    {
     "data": {
      "text/plain": [
       "'RUN LOLA, RUN!'"
      ]
     },
     "execution_count": 57,
     "metadata": {},
     "output_type": "execute_result"
    }
   ],
   "source": [
    "cr.decode_morse(_)"
   ]
  },
  {
   "cell_type": "markdown",
   "metadata": {},
   "source": [
    "## Functions Module"
   ]
  },
  {
   "cell_type": "code",
   "execution_count": 58,
   "metadata": {},
   "outputs": [
    {
     "data": {
      "text/plain": [
       "45"
      ]
     },
     "execution_count": 58,
     "metadata": {},
     "output_type": "execute_result"
    }
   ],
   "source": [
    "binomial(10, 2)"
   ]
  },
  {
   "cell_type": "code",
   "execution_count": 59,
   "metadata": {},
   "outputs": [
    {
     "data": {
      "text/plain": [
       "362880"
      ]
     },
     "execution_count": 59,
     "metadata": {},
     "output_type": "execute_result"
    }
   ],
   "source": [
    "factorial(9)"
   ]
  },
  {
   "cell_type": "code",
   "execution_count": 60,
   "metadata": {},
   "outputs": [
    {
     "data": {
      "text/plain": [
       "34"
      ]
     },
     "execution_count": 60,
     "metadata": {},
     "output_type": "execute_result"
    }
   ],
   "source": [
    "fibonacci(9)"
   ]
  },
  {
   "cell_type": "code",
   "execution_count": 63,
   "metadata": {},
   "outputs": [
    {
     "data": {
      "text/plain": [
       "3653182778990767589396015372875328285861/718766754945489455304472257065075294400"
      ]
     },
     "execution_count": 63,
     "metadata": {},
     "output_type": "execute_result"
    }
   ],
   "source": [
    "harmonic(90)"
   ]
  }
 ],
 "metadata": {
  "kernelspec": {
   "display_name": "Python 3",
   "language": "python",
   "name": "python3"
  },
  "language_info": {
   "codemirror_mode": {
    "name": "ipython",
    "version": 3
   },
   "file_extension": ".py",
   "mimetype": "text/x-python",
   "name": "python",
   "nbconvert_exporter": "python",
   "pygments_lexer": "ipython3",
   "version": "3.6.3"
  }
 },
 "nbformat": 4,
 "nbformat_minor": 2
}
